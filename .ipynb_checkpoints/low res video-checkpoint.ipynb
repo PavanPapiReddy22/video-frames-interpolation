{
 "cells": [
  {
   "cell_type": "code",
   "execution_count": null,
   "id": "9cc68f1d",
   "metadata": {},
   "outputs": [],
   "source": [
    "import cv2\n",
    "import os\n",
    "\n",
    "def extract_frames(video_path, output_folder):\n",
    "    # Create output folder if it doesn't exist\n",
    "    if not os.path.exists(output_folder):\n",
    "        os.makedirs(output_folder)\n",
    "\n",
    "    # Open the video file\n",
    "    cap = cv2.VideoCapture(video_path)\n",
    "    if not cap.isOpened():\n",
    "        print(f\"Error: Unable to open video file '{video_path}'.\")\n",
    "        return\n",
    "\n",
    "    # Initialize frame count\n",
    "    frame_count = 0\n",
    "\n",
    "    # Read until video is completed\n",
    "    while True:\n",
    "        # Read a frame from the video\n",
    "        ret, frame = cap.read()\n",
    "\n",
    "        # Break the loop if no frame is read\n",
    "        if not ret:\n",
    "            break\n",
    "\n",
    "        # Save frame as an image\n",
    "        frame_count += 4\n",
    "        # Use the video name and frame count to generate unique filenames\n",
    "        video_name = os.path.splitext(os.path.basename(video_path))[0]  # Get video name without extension\n",
    "        frame_filename = os.path.join(output_folder, f\"{frame_count:04d}.jpg\")\n",
    "        cv2.imwrite(frame_filename, frame)\n",
    "\n",
    "    # Release the video capture object\n",
    "    cap.release()\n",
    "\n",
    "    print(f\"Frames extracted from '{video_path}': {frame_count}\")\n",
    "\n",
    "if __name__ == \"__main__\":\n",
    "    # Input folder containing videos\n",
    "    videos_folder = r\"videos\"\n",
    "\n",
    "    # Output folder to save frames\n",
    "    output_folder = \"frames\"\n",
    "\n",
    "    # Iterate over each video file in the videos folder\n",
    "    for video_file in os.listdir(videos_folder):\n",
    "        if video_file.endswith(\".mp4\"):  # Assuming all video files are .mp4\n",
    "            video_path = os.path.join(videos_folder, video_file)\n",
    "\n",
    "            # Call the function to extract frames from this video\n",
    "            extract_frames(video_path, output_folder)\n"
   ]
  }
 ],
 "metadata": {
  "kernelspec": {
   "display_name": "Python 3 (ipykernel)",
   "language": "python",
   "name": "python3"
  },
  "language_info": {
   "codemirror_mode": {
    "name": "ipython",
    "version": 3
   },
   "file_extension": ".py",
   "mimetype": "text/x-python",
   "name": "python",
   "nbconvert_exporter": "python",
   "pygments_lexer": "ipython3",
   "version": "3.9.13"
  }
 },
 "nbformat": 4,
 "nbformat_minor": 5
}
